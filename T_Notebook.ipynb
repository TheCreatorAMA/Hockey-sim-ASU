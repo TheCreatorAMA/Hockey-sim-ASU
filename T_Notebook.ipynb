{
 "cells": [
  {
   "cell_type": "code",
   "execution_count": 1,
   "metadata": {},
   "outputs": [],
   "source": [
    "import numpy as np\n",
    "import pandas as pd\n",
    "\n",
    "stats = pd.read_csv('All_data.csv')"
   ]
  },
  {
   "cell_type": "code",
   "execution_count": null,
   "metadata": {},
   "outputs": [],
   "source": [
    "stats[:1]"
   ]
  },
  {
   "cell_type": "code",
   "execution_count": null,
   "metadata": {},
   "outputs": [],
   "source": [
    "stats.iloc[0]['FO']"
   ]
  },
  {
   "cell_type": "code",
   "execution_count": null,
   "metadata": {},
   "outputs": [],
   "source": [
    "test = []\n",
    "PlayerList = []\n",
    "count = 0\n",
    "\n",
    "for i in range(len(stats)):\n",
    "    count += 1\n",
    "    #print(count) count works for all 66 rows\n",
    "x = stats['Player']\n",
    "for j in x:\n",
    "    test.append(j)\n",
    "    \n",
    "for k in range(len(stats)):\n",
    "    PlayerList.append(Player(stats.iloc[i]['Player']))\n",
    "    \n",
    "print(PlayerList)"
   ]
  },
  {
   "cell_type": "code",
   "execution_count": null,
   "metadata": {},
   "outputs": [],
   "source": [
    "test[0]"
   ]
  },
  {
   "cell_type": "code",
   "execution_count": null,
   "metadata": {},
   "outputs": [],
   "source": [
    "class Player():\n",
    "    def teams():\n",
    "        for k in range(len(stats)):\n",
    "            PlayerList.append(Player(stats.iloc[i]['Player']))\n",
    "    \n",
    "print(PlayerList)"
   ]
  },
  {
   "cell_type": "code",
   "execution_count": null,
   "metadata": {},
   "outputs": [],
   "source": [
    "p1 = stats[1:2]\n",
    "print(p1)"
   ]
  },
  {
   "cell_type": "code",
   "execution_count": null,
   "metadata": {},
   "outputs": [],
   "source": [
    "stats.set_index(\"Player\", inplace=True)\n",
    "stats.loc['Brent Seabrook']"
   ]
  },
  {
   "cell_type": "code",
   "execution_count": null,
   "metadata": {},
   "outputs": [],
   "source": [
    "stats.set_index(\"Pos\", inplace=True)\n",
    "stats.loc['F']"
   ]
  },
  {
   "cell_type": "code",
   "execution_count": null,
   "metadata": {},
   "outputs": [],
   "source": [
    "PlayPos = stats[stats['Pos'] == \"C\"]\n",
    "PlayPos[:]"
   ]
  },
  {
   "cell_type": "code",
   "execution_count": null,
   "metadata": {},
   "outputs": [],
   "source": [
    "#Test Players\n",
    "\tp1 = Player('Player 1', 'Arizona', 'C', 0.54, 0.72,0.55,1,1,1,1,1)\n",
    "\tp2 = Player('Player 2', 'Arizona', 'RW', 0.43, 0.62,0.56,1,1,1,1,1)\n",
    "\tp3 = Player('Player 3', 'Arizona', 'LW', 0.44, 0.49,0.49,1,1,1,1,1)\n",
    "\tp4 = Player('Player 4', 'Utah', 'C', 0.49, 0.659,0.51,1,1,1,1,1)\n",
    "\tp5 = Player('Player 5', 'Utah', 'RW', 0.40, 0.33,0.48,1,1,1,1,1)\n",
    "\tp6 = Player('Player 7', 'Utah', 'LW', 0.41, 0.8,0.47,1,1,1,1,1)\n",
    "\n",
    "\tteam_1 = [p1,p2,p3]\n",
    "\tteam_2 = [p4,p5,p6]"
   ]
  },
  {
   "cell_type": "code",
   "execution_count": null,
   "metadata": {},
   "outputs": [],
   "source": [
    "p1 = Player(stats)"
   ]
  },
  {
   "cell_type": "code",
   "execution_count": 9,
   "metadata": {},
   "outputs": [
    {
     "name": "stdout",
     "output_type": "stream",
     "text": [
      "3\n",
      "12\n",
      "0\n",
      "0\n",
      "0\n",
      "9\n",
      "1\n",
      "18\n",
      "6\n",
      "8\n",
      "7\n",
      "0\n",
      "1\n",
      "17\n",
      "4\n",
      "0\n",
      "1\n",
      "2\n",
      "7\n",
      "14\n",
      "4\n",
      "12\n",
      "7\n",
      "0\n",
      "29\n",
      "18\n",
      "3\n",
      "6\n",
      "20\n",
      "3\n",
      "2\n",
      "0\n",
      "1\n",
      "0\n",
      "16\n",
      "0\n",
      "3\n",
      "11\n",
      "0\n",
      "9\n",
      "12\n",
      "5\n",
      "5\n",
      "4\n",
      "10\n",
      "0\n",
      "3\n",
      "4\n",
      "15\n",
      "9\n",
      "16\n",
      "8\n",
      "10\n",
      "11\n",
      "5\n",
      "0\n",
      "0\n",
      "8\n",
      "4\n",
      "1\n",
      "14\n",
      "0\n",
      "12\n",
      "8\n",
      "22\n",
      "2\n"
     ]
    }
   ],
   "source": [
    "import numpy as np\n",
    "import pandas as pd\n",
    "\n",
    "#Hockey player class\n",
    "class Player():\n",
    "    \"\"\"This class defines a movie with the players team, position and some other stats\"\"\"\n",
    "    def __init__(self, Name, Team, Pos, FO, Thru, CF, Penalties, Minor, GP, PPG):\n",
    "        self.Name = Name\n",
    "        self.Team = Team\n",
    "        self.Pos = Pos\n",
    "        self.FO = FO\n",
    "        self.Thru = Thru\n",
    "        self.CF = CF\n",
    "        self.Penalties = Penalties\n",
    "        self.Minor = Minor\n",
    "        self.GP = GP\n",
    "        self.PPG = PPG\n",
    "    \n",
    "    def getName(self):\n",
    "        return self.Name\n",
    "    \n",
    "    def getTeam(self):\n",
    "        return self.Team\n",
    "    \n",
    "    def getPosition(self):\n",
    "        return self.Pos\n",
    "    \n",
    "    def getFO(self):\n",
    "        return self.FO\n",
    "    \n",
    "    def getThru(self):\n",
    "        return self.Thru\n",
    "    \n",
    "    def getCF(self):\n",
    "        return self.CF\n",
    "    \n",
    "    def getPenalties(self):\n",
    "        return self.Penalties\n",
    "    \n",
    "    def getMinor(self):\n",
    "        return self.Minor\n",
    "    \n",
    "    def getGP(self):\n",
    "        return self.GP\n",
    "    \n",
    "    def getPPG(self):\n",
    "        return self.PPG\n",
    "    \n",
    "    def __str__(self):\n",
    "        return str(self.getName()) + ' plays for ' + str(self.getTeam())\n",
    "\n",
    "PlayerList = []\n",
    "for i in range(len(stats)):\n",
    "    PlayerList.append(Player(stats.iloc[i]['Player'], stats.iloc[i]['Team'], stats.iloc[i]['Pos'],\n",
    "                            stats.iloc[i]['FO'], stats.iloc[i]['Thru'], stats.iloc[i]['CF'], \n",
    "                            stats.iloc[i]['Penalties'], stats.iloc[i]['Minor'], stats.iloc[i]['GP'], \n",
    "                            stats.iloc[i]['PPG']))\n",
    "for j in PlayerList:\n",
    "    print(j.getMinor())"
   ]
  },
  {
   "cell_type": "code",
   "execution_count": null,
   "metadata": {},
   "outputs": [],
   "source": []
  }
 ],
 "metadata": {
  "kernelspec": {
   "display_name": "Python 3",
   "language": "python",
   "name": "python3"
  },
  "language_info": {
   "codemirror_mode": {
    "name": "ipython",
    "version": 3
   },
   "file_extension": ".py",
   "mimetype": "text/x-python",
   "name": "python",
   "nbconvert_exporter": "python",
   "pygments_lexer": "ipython3",
   "version": "3.7.4"
  }
 },
 "nbformat": 4,
 "nbformat_minor": 2
}
